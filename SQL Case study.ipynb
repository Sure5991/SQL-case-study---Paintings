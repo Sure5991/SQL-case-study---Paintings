{
 "cells": [
  {
   "cell_type": "code",
   "execution_count": 16,
   "id": "c13703bb-d60e-42bf-bc8c-7254daa35bbf",
   "metadata": {
    "tags": []
   },
   "outputs": [],
   "source": [
    "from sqlalchemy import create_engine\n",
    "import pandas as pd\n",
    "import os"
   ]
  },
  {
   "cell_type": "code",
   "execution_count": 17,
   "id": "bc1bb211-1532-448b-aa7e-d3597e2f7fe2",
   "metadata": {
    "tags": []
   },
   "outputs": [],
   "source": [
    "conn_string = 'mssql+pyodbc://@LAPTOP-1QBNGCK1/paintings?trusted_connection=yes&driver=ODBC+Driver+17+for+SQL+Server'"
   ]
  },
  {
   "cell_type": "code",
   "execution_count": 18,
   "id": "cdbf40ed-27de-41c7-aca9-66d612e902f5",
   "metadata": {
    "tags": []
   },
   "outputs": [],
   "source": [
    "db = create_engine('mssql+pyodbc://@LAPTOP-1QBNGCK1/paintings?trusted_connection=yes&driver=ODBC+Driver+17+for+SQL+Server')\n",
    "conn = db.connect()"
   ]
  },
  {
   "cell_type": "code",
   "execution_count": 19,
   "id": "b13a5d25-af2b-44ca-af69-0dfb690dd864",
   "metadata": {
    "tags": []
   },
   "outputs": [],
   "source": [
    "folder_path = 'A:/Data Science/Projects/SQL case study/painting/'\n",
    "file_url = 'A:/Data Science/Projects/SQL case study/painting/artist.csv'"
   ]
  },
  {
   "cell_type": "code",
   "execution_count": 20,
   "id": "450ddb0c-63dd-44a6-9591-ce29975ff350",
   "metadata": {
    "tags": []
   },
   "outputs": [
    {
     "data": {
      "text/plain": [
       "['artist.csv',\n",
       " 'canvas_size.csv',\n",
       " 'image_link.csv',\n",
       " 'museum.csv',\n",
       " 'museum_hours.csv',\n",
       " 'product_size.csv',\n",
       " 'subject.csv',\n",
       " 'work.csv']"
      ]
     },
     "execution_count": 20,
     "metadata": {},
     "output_type": "execute_result"
    }
   ],
   "source": [
    "file_list = os.listdir(folder_path)\n",
    "file_list"
   ]
  },
  {
   "cell_type": "code",
   "execution_count": 21,
   "id": "86cf41fb-0858-4047-83e2-8a6de08c03c8",
   "metadata": {
    "tags": []
   },
   "outputs": [],
   "source": [
    "for file in file_list:\n",
    "    if file.endswith('.csv'):\n",
    "        file_url = os.path.join(folder_path,file)\n",
    "        df = pd.read_csv(file_url)\n",
    "        df.to_sql(file[0:-4],con = conn,if_exists = 'replace',index=False)        "
   ]
  },
  {
   "cell_type": "code",
   "execution_count": 22,
   "id": "53cf11ee-b0ea-4fb5-b071-4c55cc3888dd",
   "metadata": {},
   "outputs": [],
   "source": [
    "conn.close()"
   ]
  },
  {
   "cell_type": "code",
   "execution_count": null,
   "id": "f8ba7e8e-12e2-4951-8780-9afc66019acf",
   "metadata": {},
   "outputs": [],
   "source": []
  }
 ],
 "metadata": {
  "kernelspec": {
   "display_name": "Python 3 (ipykernel)",
   "language": "python",
   "name": "python3"
  },
  "language_info": {
   "codemirror_mode": {
    "name": "ipython",
    "version": 3
   },
   "file_extension": ".py",
   "mimetype": "text/x-python",
   "name": "python",
   "nbconvert_exporter": "python",
   "pygments_lexer": "ipython3",
   "version": "3.11.4"
  }
 },
 "nbformat": 4,
 "nbformat_minor": 5
}
